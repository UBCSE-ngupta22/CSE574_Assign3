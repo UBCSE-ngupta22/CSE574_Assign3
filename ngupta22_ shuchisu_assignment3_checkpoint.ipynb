{
 "cells": [
  {
   "cell_type": "code",
   "execution_count": 62,
   "metadata": {},
   "outputs": [],
   "source": [
    "# Import required libraries\n",
    "import gymnasium as gym\n",
    "from gymnasium import spaces\n",
    "import matplotlib.pyplot as plt\n",
    "import matplotlib.patches as patches\n",
    "import numpy as np"
   ]
  },
  {
   "cell_type": "code",
   "execution_count": 63,
   "metadata": {},
   "outputs": [
    {
     "name": "stdout",
     "output_type": "stream",
     "text": [
      "[[0. 0. 0. 0.]\n",
      " [0. 0. 0. 0.]\n",
      " [0. 0. 0. 0.]\n",
      " [0. 0. 0. 0.]]\n"
     ]
    }
   ],
   "source": [
    "grid = np.zeros((4,4)) #this is how you define a 4x4 grid\n",
    "print(grid)"
   ]
  },
  {
   "cell_type": "code",
   "execution_count": 64,
   "metadata": {},
   "outputs": [
    {
     "data": {
      "text/plain": [
       "<matplotlib.image.AxesImage at 0x10e306c70>"
      ]
     },
     "execution_count": 64,
     "metadata": {},
     "output_type": "execute_result"
    },
    {
     "data": {
      "image/png": "[encoded data removed]",
      "text/plain": [
       "<Figure size 432x288 with 1 Axes>"
      ]
     },
     "metadata": {
      "needs_background": "light"
     },
     "output_type": "display_data"
    }
   ],
   "source": [
    "pos1 = [0,0] #start position of our agent\n",
    "pos2 = [3,3] #goal position of our agent\n",
    "grid[tuple(pos1)] = 1\n",
    "grid[tuple(pos2)] = 0.5\n",
    "\n",
    "plt.imshow(grid)"
   ]
  },
  {
   "cell_type": "code",
   "execution_count": 65,
   "metadata": {},
   "outputs": [],
   "source": [
    "class GridEnvironment(gym.Env):\n",
    "    metadata = {'render.modes': []}\n",
    "\n",
    "    def __init__(self):\n",
    "        self.observation_space = spaces.Discrete(16)\n",
    "        self.action_space = spaces.Discrete(4)\n",
    "        self.max_timesteps = 10\n",
    "        self.done = Falses\n",
    "\n",
    "        self.timestep = 0\n",
    "        self.agent_pos = [0, 0]\n",
    "        self.goal_pos = [3, 3]\n",
    "        self.state = np.zeros((4, 4))\n",
    "        self.state[tuple(self.agent_pos)] = 1  # Initial agent position\n",
    "        self.state[tuple(self.goal_pos)] = 0.5  # Goal position\n",
    "\n",
    "        self.rocks = [(1, 1), (2, 2)]  # Rocks positions\n",
    "        for rock_pos in self.rocks:\n",
    "            self.state[rock_pos] = -1  # Rocks as negative rewards\n",
    "\n",
    "        self.rewards = [(0, 3), (3, 0)]  # Positions where the agent receives positive rewards\n",
    "        for reward_pos in self.rewards:\n",
    "            self.state[reward_pos] = 2  # Positive rewards at reward positions\n",
    "\n",
    "    def reset(self, **kwargs):\n",
    "        self.state = np.zeros((4, 4))\n",
    "        self.terminated = False\n",
    "        self.state[tuple(self.agent_pos)] = 1\n",
    "        self.state[tuple(self.goal_pos)] = 0.5\n",
    "\n",
    "        for rock_pos in self.rocks:\n",
    "            self.state[rock_pos] = -1  # Rocks as negative rewards\n",
    "\n",
    "        for reward_pos in self.rewards:\n",
    "            self.state[reward_pos] = 2\n",
    "\n",
    "        observation = self.state.flatten()\n",
    "        return observation\n",
    "\n",
    "    def step(self, action):\n",
    "        if action == 0:  # Up\n",
    "            self.agent_pos[0] = max(0, self.agent_pos[0] - 1)\n",
    "        elif action == 1:  # Down\n",
    "            self.agent_pos[0] = min(3, self.agent_pos[0] + 1)\n",
    "        elif action == 2:  # Right\n",
    "            self.agent_pos[1] = min(3, self.agent_pos[1] + 1)\n",
    "        elif action == 3:  # Left\n",
    "            self.agent_pos[1] = max(0, self.agent_pos[1] - 1)\n",
    "\n",
    "        self.state = np.zeros((4, 4))\n",
    "        self.state[tuple(self.agent_pos)] = 1\n",
    "        self.state[tuple(self.goal_pos)] = 0.5\n",
    "\n",
    "        for rock_pos in self.rocks:\n",
    "            self.state[rock_pos] = -1\n",
    "\n",
    "        for reward_pos in self.rewards:\n",
    "            self.state[reward_pos] = 2 \n",
    "\n",
    "        observation = self.state.flatten()\n",
    "\n",
    "        reward = 0\n",
    "        if np.array_equal(self.agent_pos, self.goal_pos):\n",
    "            reward = 10  # Positive reward for reaching the goal\n",
    "            self.done = True\n",
    "        elif tuple(self.agent_pos) in self.rocks:\n",
    "            # Assign individual rewards for each rock position\n",
    "            if tuple(self.agent_pos) == (1, 1):\n",
    "                reward = -5  # Negative reward for hitting the rock at (1, 1)\n",
    "            elif tuple(self.agent_pos) == (2, 2):\n",
    "                reward = -6  # Negative reward for hitting the rock at (2, 2)\n",
    "        elif tuple(self.agent_pos) in self.rewards:\n",
    "            # Assign individual rewards for each reward position\n",
    "            if tuple(self.agent_pos) == (0, 3):\n",
    "                reward = 5  # Positive reward for being at the reward position (0, 3)\n",
    "            elif tuple(self.agent_pos) == (3, 0):\n",
    "                reward = 6  # Positive reward for being at the reward position (3, 0)\n",
    "\n",
    "        self.timestep += 1\n",
    "\n",
    "        terminated = True if self.timestep >= self.max_timesteps else False\n",
    "\n",
    "        agentState = self.agent_pos\n",
    "        isDone = self.done\n",
    "        timestepCount = self.timestep\n",
    "\n",
    "        return observation, reward, terminated, agentState, isDone, timestepCount\n",
    "\n",
    "    def render(self):\n",
    "        plt.title('Grid World')\n",
    "\n",
    "        # Visualize rocks as red squares\n",
    "        for rock_pos in self.rocks:\n",
    "            plt.scatter(rock_pos[1], rock_pos[0], color='red', marker='s', s=300)\n",
    "\n",
    "        # Visualize rocks as red squares\n",
    "        for reward_pos in self.rewards:\n",
    "            plt.scatter(reward_pos[1], reward_pos[0], color='orange', marker='P', s=300)\n",
    "\n",
    "        # Visualize the agent as a green circle\n",
    "        plt.scatter(self.agent_pos[1], self.agent_pos[0], color='green', marker='o', s=300)\n",
    "\n",
    "        # Visualize the goal as a blue star\n",
    "        plt.scatter(self.goal_pos[1], self.goal_pos[0], color='blue', marker='*', s=300)\n",
    "        plt.imshow(self.state)\n",
    "        plt.show()\n",
    "        \n"
   ]
  },
  {
   "cell_type": "code",
   "execution_count": 66,
   "metadata": {},
   "outputs": [],
   "source": [
    "actionsEquivalent = {0:'Up', 1:'Down', 2:'Right', 3:'Left'}\n",
    "statesEquivalent = {(0,0):'S1', (0,1):'S2', (0,2):'S3', (0,3):'S4', (1,0):'S5', (1,1):'S6', (1,2):'S7', \n",
    "                    (1,3):'S8',(2,0):'S9',(2,1):'S10',(2,2):'S11', (2,3):'S12', (3,0):'S13', (3,1):'S14', \n",
    "                    (3,2):'S15', (3,3):'S16'}"
   ]
  },
  {
   "cell_type": "code",
   "execution_count": 67,
   "metadata": {},
   "outputs": [
    {
     "data": {
      "image/png": "[encoded data removed]",
      "text/plain": [
       "<Figure size 432x288 with 1 Axes>"
      ]
     },
     "metadata": {
      "needs_background": "light"
     },
     "output_type": "display_data"
    }
   ],
   "source": [
    "env = GridEnvironment()\n",
    "\n",
    "obs = env.reset()\n",
    "env.render()"
   ]
  },
  {
   "cell_type": "code",
   "execution_count": 68,
   "metadata": {},
   "outputs": [
    {
     "name": "stdout",
     "output_type": "stream",
     "text": [
      "Reward = 0, Action = Down, Current State = S5 = (1, 0)\n"
     ]
    },
    {
     "data": {
      "image/png": "[encoded data removed]",
      "text/plain": [
       "<Figure size 432x288 with 1 Axes>"
      ]
     },
     "metadata": {
      "needs_background": "light"
     },
     "output_type": "display_data"
    }
   ],
   "source": [
    "action = 1\n",
    "observation, reward, terminated, state, done, timestepCount = env.step(action)\n",
    "print(f\"Reward = {reward}, Action = {actionsEquivalent[action]}, Current State = {statesEquivalent[tuple(state)]} = {tuple(state)}\")\n",
    "env.render()"
   ]
  },
  {
   "cell_type": "code",
   "execution_count": 69,
   "metadata": {},
   "outputs": [
    {
     "name": "stdout",
     "output_type": "stream",
     "text": [
      "Reward = -5, Action = Right, Current State = S6 = (1, 1)\n"
     ]
    },
    {
     "data": {
      "image/png": "[encoded data removed]",
      "text/plain": [
       "<Figure size 432x288 with 1 Axes>"
      ]
     },
     "metadata": {
      "needs_background": "light"
     },
     "output_type": "display_data"
    }
   ],
   "source": [
    "action = 2\n",
    "observation, reward, terminated, state, done, timestepCount = env.step(action)\n",
    "print(f\"Reward = {reward}, Action = {actionsEquivalent[action]}, Current State = {statesEquivalent[tuple(state)]} = {tuple(state)}\")\n",
    "env.render()"
   ]
  },
  {
   "cell_type": "code",
   "execution_count": 70,
   "metadata": {},
   "outputs": [
    {
     "name": "stdout",
     "output_type": "stream",
     "text": [
      "Reward = 0, Action = Left, Current State = S5 = (1, 0)\n"
     ]
    },
    {
     "data": {
      "image/png": "[encoded data removed]",
      "text/plain": [
       "<Figure size 432x288 with 1 Axes>"
      ]
     },
     "metadata": {
      "needs_background": "light"
     },
     "output_type": "display_data"
    }
   ],
   "source": [
    "action = 3\n",
    "observation, reward, terminated, state, done, timestepCount = env.step(action)\n",
    "print(f\"Reward = {reward}, Action = {actionsEquivalent[action]}, Current State = {statesEquivalent[tuple(state)]} = {tuple(state)}\")\n",
    "env.render()"
   ]
  },
  {
   "cell_type": "code",
   "execution_count": 71,
   "metadata": {},
   "outputs": [],
   "source": [
    "# Definition an agent that takes action randomly\n",
    "class RandomAgent:\n",
    "\n",
    "  def __init__(self, env):\n",
    "    self.env = env\n",
    "    self.observation_space = env.observation_space\n",
    "    self.action_space = env.action_space\n",
    "\n",
    "  def step(self, obs):\n",
    "    \"\"\"Takes a step in the environment by choosing an action randomly.\n",
    "\n",
    "    Args:\n",
    "        obs: The current observation.\n",
    "\n",
    "    Returns:\n",
    "        The action to take.\n",
    "    \"\"\"\n",
    "    return np.random.choice(self.action_space.n)"
   ]
  },
  {
   "cell_type": "code",
   "execution_count": 72,
   "metadata": {},
   "outputs": [
    {
     "name": "stdout",
     "output_type": "stream",
     "text": [
      "Timestep: 1\n",
      "\n",
      "Current State: S1 = (0, 0) | Action = Up | Reward = 0 | Done = False | Terminated:False\n"
     ]
    },
    {
     "data": {
      "image/png": "[encoded data removed]",
      "text/plain": [
       "<Figure size 432x288 with 1 Axes>"
      ]
     },
     "metadata": {
      "needs_background": "light"
     },
     "output_type": "display_data"
    },
    {
     "name": "stdout",
     "output_type": "stream",
     "text": [
      "Timestep: 2\n",
      "\n",
      "Current State: S1 = (0, 0) | Action = Left | Reward = 0 | Done = False | Terminated:False\n"
     ]
    },
    {
     "data": {
      "image/png": "[encoded data removed]",
      "text/plain": [
       "<Figure size 432x288 with 1 Axes>"
      ]
     },
     "metadata": {
      "needs_background": "light"
     },
     "output_type": "display_data"
    },
    {
     "name": "stdout",
     "output_type": "stream",
     "text": [
      "Timestep: 3\n",
      "\n",
      "Current State: S2 = (0, 1) | Action = Right | Reward = 0 | Done = False | Terminated:False\n"
     ]
    },
    {
     "data": {
      "image/png": "[encoded data removed]",
      "text/plain": [
       "<Figure size 432x288 with 1 Axes>"
      ]
     },
     "metadata": {
      "needs_background": "light"
     },
     "output_type": "display_data"
    },
    {
     "name": "stdout",
     "output_type": "stream",
     "text": [
      "Timestep: 4\n",
      "\n",
      "Current State: S1 = (0, 0) | Action = Left | Reward = 0 | Done = False | Terminated:False\n"
     ]
    },
    {
     "data": {
      "image/png": "[encoded data removed]",
      "text/plain": [
       "<Figure size 432x288 with 1 Axes>"
      ]
     },
     "metadata": {
      "needs_background": "light"
     },
     "output_type": "display_data"
    },
    {
     "name": "stdout",
     "output_type": "stream",
     "text": [
      "Timestep: 5\n",
      "\n",
      "Current State: S5 = (1, 0) | Action = Down | Reward = 0 | Done = False | Terminated:False\n"
     ]
    },
    {
     "data": {
      "image/png": "[encoded data removed]",
      "text/plain": [
       "<Figure size 432x288 with 1 Axes>"
      ]
     },
     "metadata": {
      "needs_background": "light"
     },
     "output_type": "display_data"
    },
    {
     "name": "stdout",
     "output_type": "stream",
     "text": [
      "Timestep: 6\n",
      "\n",
      "Current State: S1 = (0, 0) | Action = Up | Reward = 0 | Done = False | Terminated:False\n"
     ]
    },
    {
     "data": {
      "image/png": "[encoded data removed]",
      "text/plain": [
       "<Figure size 432x288 with 1 Axes>"
      ]
     },
     "metadata": {
      "needs_background": "light"
     },
     "output_type": "display_data"
    },
    {
     "name": "stdout",
     "output_type": "stream",
     "text": [
      "Timestep: 7\n",
      "\n",
      "Current State: S2 = (0, 1) | Action = Right | Reward = 0 | Done = False | Terminated:False\n"
     ]
    },
    {
     "data": {
      "image/png": "[encoded data removed]",
      "text/plain": [
       "<Figure size 432x288 with 1 Axes>"
      ]
     },
     "metadata": {
      "needs_background": "light"
     },
     "output_type": "display_data"
    },
    {
     "name": "stdout",
     "output_type": "stream",
     "text": [
      "Timestep: 8\n",
      "\n",
      "Current State: S6 = (1, 1) | Action = Down | Reward = -5 | Done = False | Terminated:False\n"
     ]
    },
    {
     "data": {
      "image/png": "[encoded data removed]",
      "text/plain": [
       "<Figure size 432x288 with 1 Axes>"
      ]
     },
     "metadata": {
      "needs_background": "light"
     },
     "output_type": "display_data"
    },
    {
     "name": "stdout",
     "output_type": "stream",
     "text": [
      "Timestep: 9\n",
      "\n",
      "Current State: S5 = (1, 0) | Action = Left | Reward = 0 | Done = False | Terminated:False\n"
     ]
    },
    {
     "data": {
      "image/png": "[encoded data removed]",
      "text/plain": [
       "<Figure size 432x288 with 1 Axes>"
      ]
     },
     "metadata": {
      "needs_background": "light"
     },
     "output_type": "display_data"
    },
    {
     "name": "stdout",
     "output_type": "stream",
     "text": [
      "Timestep: 10\n",
      "\n",
      "Current State: S6 = (1, 1) | Action = Right | Reward = -5 | Done = False | Terminated:True\n"
     ]
    },
    {
     "data": {
      "image/png": "[encoded data removed]",
      "text/plain": [
       "<Figure size 432x288 with 1 Axes>"
      ]
     },
     "metadata": {
      "needs_background": "light"
     },
     "output_type": "display_data"
    }
   ],
   "source": [
    "# Sample code for environment and agent implementation. Also shows\n",
    "# visualization of the random agent's movement across the grid. The yellow cell\n",
    "# shows the movement of the agent.\n",
    "\n",
    "if __name__ == '__main__':\n",
    "  env = GridEnvironment()\n",
    "  agent = RandomAgent(env)\n",
    "\n",
    "  obs = env.reset()\n",
    "\n",
    "  while not terminated:\n",
    "    action = agent.step(obs)\n",
    "    observation, reward, terminated, state, done, timestepCount = env.step(action)\n",
    "    stateTup = tuple(state)\n",
    "    print(f\"Timestep: {timestepCount}\")\n",
    "    print(f\"\\nCurrent State: {statesEquivalent[stateTup]} = {stateTup} | Action = {actionsEquivalent[action]} | Reward = {reward} | Done = {done} | Terminated:{terminated}\")\n",
    "    env.render()"
   ]
  },
  {
   "cell_type": "code",
   "execution_count": 99,
   "metadata": {},
   "outputs": [
    {
     "ename": "IndexError",
     "evalue": "arrays used as indices must be of integer (or boolean) type",
     "output_type": "error",
     "traceback": [
      "\u001b[0;31m---------------------------------------------------------------------------\u001b[0m",
      "\u001b[0;31mIndexError\u001b[0m                                Traceback (most recent call last)",
      "\u001b[0;32m/var/folders/xf/xh_p141j49dcdz0sfnn39z5c0000gn/T/ipykernel_89121/1558942809.py\u001b[0m in \u001b[0;36m<module>\u001b[0;34m\u001b[0m\n\u001b[1;32m     51\u001b[0m \u001b[0;34m\u001b[0m\u001b[0m\n\u001b[1;32m     52\u001b[0m \u001b[0;31m# Run SARSA algorithm\u001b[0m\u001b[0;34m\u001b[0m\u001b[0;34m\u001b[0m\u001b[0m\n\u001b[0;32m---> 53\u001b[0;31m \u001b[0mQ_values\u001b[0m \u001b[0;34m=\u001b[0m \u001b[0msarsa\u001b[0m\u001b[0;34m(\u001b[0m\u001b[0menv\u001b[0m\u001b[0;34m,\u001b[0m \u001b[0mnum_episodes\u001b[0m\u001b[0;34m,\u001b[0m \u001b[0malpha\u001b[0m\u001b[0;34m,\u001b[0m \u001b[0mgamma\u001b[0m\u001b[0;34m,\u001b[0m \u001b[0mepsilon\u001b[0m\u001b[0;34m)\u001b[0m\u001b[0;34m\u001b[0m\u001b[0;34m\u001b[0m\u001b[0m\n\u001b[0m\u001b[1;32m     54\u001b[0m \u001b[0;34m\u001b[0m\u001b[0m\n\u001b[1;32m     55\u001b[0m \u001b[0;31m# Print the learned Q-values\u001b[0m\u001b[0;34m\u001b[0m\u001b[0;34m\u001b[0m\u001b[0m\n",
      "\u001b[0;32m/var/folders/xf/xh_p141j49dcdz0sfnn39z5c0000gn/T/ipykernel_89121/1558942809.py\u001b[0m in \u001b[0;36msarsa\u001b[0;34m(env, num_episodes, alpha, gamma, epsilon)\u001b[0m\n\u001b[1;32m     17\u001b[0m     \u001b[0;32mfor\u001b[0m \u001b[0mepisode\u001b[0m \u001b[0;32min\u001b[0m \u001b[0mrange\u001b[0m\u001b[0;34m(\u001b[0m\u001b[0mnum_episodes\u001b[0m\u001b[0;34m)\u001b[0m\u001b[0;34m:\u001b[0m\u001b[0;34m\u001b[0m\u001b[0;34m\u001b[0m\u001b[0m\n\u001b[1;32m     18\u001b[0m         \u001b[0mstate\u001b[0m \u001b[0;34m=\u001b[0m \u001b[0menv\u001b[0m\u001b[0;34m.\u001b[0m\u001b[0mreset\u001b[0m\u001b[0;34m(\u001b[0m\u001b[0;34m)\u001b[0m\u001b[0;34m\u001b[0m\u001b[0;34m\u001b[0m\u001b[0m\n\u001b[0;32m---> 19\u001b[0;31m         \u001b[0maction\u001b[0m \u001b[0;34m=\u001b[0m \u001b[0mepsilon_greedy_policy\u001b[0m\u001b[0;34m(\u001b[0m\u001b[0mQ\u001b[0m\u001b[0;34m,\u001b[0m \u001b[0mstate\u001b[0m\u001b[0;34m,\u001b[0m \u001b[0mepsilon\u001b[0m\u001b[0;34m)\u001b[0m\u001b[0;34m\u001b[0m\u001b[0;34m\u001b[0m\u001b[0m\n\u001b[0m\u001b[1;32m     20\u001b[0m \u001b[0;34m\u001b[0m\u001b[0m\n\u001b[1;32m     21\u001b[0m         \u001b[0;32mwhile\u001b[0m \u001b[0;32mTrue\u001b[0m\u001b[0;34m:\u001b[0m\u001b[0;34m\u001b[0m\u001b[0;34m\u001b[0m\u001b[0m\n",
      "\u001b[0;32m/var/folders/xf/xh_p141j49dcdz0sfnn39z5c0000gn/T/ipykernel_89121/1558942809.py\u001b[0m in \u001b[0;36mepsilon_greedy_policy\u001b[0;34m(Q, state, epsilon)\u001b[0m\n\u001b[1;32m     13\u001b[0m         \u001b[0;32melse\u001b[0m\u001b[0;34m:\u001b[0m\u001b[0;34m\u001b[0m\u001b[0;34m\u001b[0m\u001b[0m\n\u001b[1;32m     14\u001b[0m             \u001b[0;31m# Exploitation: choose the action with the highest Q-value\u001b[0m\u001b[0;34m\u001b[0m\u001b[0;34m\u001b[0m\u001b[0m\n\u001b[0;32m---> 15\u001b[0;31m             \u001b[0;32mreturn\u001b[0m \u001b[0mnp\u001b[0m\u001b[0;34m.\u001b[0m\u001b[0margmax\u001b[0m\u001b[0;34m(\u001b[0m\u001b[0mQ\u001b[0m\u001b[0;34m[\u001b[0m\u001b[0mstate\u001b[0m\u001b[0;34m,\u001b[0m \u001b[0;34m:\u001b[0m\u001b[0;34m]\u001b[0m\u001b[0;34m)\u001b[0m\u001b[0;34m\u001b[0m\u001b[0;34m\u001b[0m\u001b[0m\n\u001b[0m\u001b[1;32m     16\u001b[0m \u001b[0;34m\u001b[0m\u001b[0m\n\u001b[1;32m     17\u001b[0m     \u001b[0;32mfor\u001b[0m \u001b[0mepisode\u001b[0m \u001b[0;32min\u001b[0m \u001b[0mrange\u001b[0m\u001b[0;34m(\u001b[0m\u001b[0mnum_episodes\u001b[0m\u001b[0;34m)\u001b[0m\u001b[0;34m:\u001b[0m\u001b[0;34m\u001b[0m\u001b[0;34m\u001b[0m\u001b[0m\n",
      "\u001b[0;31mIndexError\u001b[0m: arrays used as indices must be of integer (or boolean) type"
     ]
    }
   ],
   "source": [
    "\n",
    "# SARSA algorithm for OpenAI Gym environment\n",
    "def sarsa(env, num_episodes, alpha, gamma, epsilon):\n",
    "    # Initialize Q-values\n",
    "    action_space_size = env.action_space.n\n",
    "    state_space_size = env.observation_space.n\n",
    "    Q = np.zeros((state_space_size, action_space_size))\n",
    "    \n",
    "    # Epsilon-greedy policy\n",
    "    def epsilon_greedy_policy(Q, state, epsilon):\n",
    "        if np.random.rand() < epsilon:\n",
    "            # Exploration: choose a random action\n",
    "            return np.random.choice(action_space_size)\n",
    "        else:\n",
    "            # Exploitation: choose the action with the highest Q-value\n",
    "            return np.argmax(Q[state, :])\n",
    "\n",
    "    for episode in range(num_episodes):\n",
    "        state = env.reset()\n",
    "        action = epsilon_greedy_policy(Q, state, epsilon)\n",
    "\n",
    "        while True:\n",
    "            # Take the chosen action\n",
    "            _, reward, _, next_state, done, _ = env.step(action)\n",
    "\n",
    "            # Choose the next action using epsilon-greedy policy\n",
    "            next_action = epsilon_greedy_policy(Q, next_state, epsilon)\n",
    "\n",
    "            # Update Q-value using SARSA update rule\n",
    "            Q[state, action] += alpha * (\n",
    "                reward + gamma * Q[next_state, next_action] - Q[state, action]\n",
    "            )\n",
    "\n",
    "            state = next_state\n",
    "            action = next_action\n",
    "\n",
    "            if done:\n",
    "                break\n",
    "\n",
    "    return Q\n",
    "\n",
    "\n",
    "\n",
    "# Gym environment\n",
    "env = GridEnvironment()\n",
    "\n",
    "# SARSA parameters\n",
    "num_episodes = 1000\n",
    "alpha = 0.1\n",
    "gamma = 0.99\n",
    "epsilon = 0.1\n",
    "\n",
    "# Run SARSA algorithm\n",
    "Q_values = sarsa(env, num_episodes, alpha, gamma, epsilon)\n",
    "\n",
    "# Print the learned Q-values\n",
    "print(\"Learned Q-values:\")\n",
    "print(Q_values)\n"
   ]
  }
 ],
 "metadata": {
  "kernelspec": {
   "display_name": "Python 3",
   "language": "python",
   "name": "python3"
  },
  "language_info": {
   "codemirror_mode": {
    "name": "ipython",
    "version": 3
   },
   "file_extension": ".py",
   "mimetype": "text/x-python",
   "name": "python",
   "nbconvert_exporter": "python",
   "pygments_lexer": "ipython3",
   "version": "3.9.18"
  }
 },
 "nbformat": 4,
 "nbformat_minor": 2
}
