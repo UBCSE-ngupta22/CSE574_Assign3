{
 "cells": [
  {
   "cell_type": "code",
   "execution_count": 62,
   "metadata": {},
   "outputs": [],
   "source": [
    "# Import required libraries\n",
    "import gymnasium as gym\n",
    "from gymnasium import spaces\n",
    "import matplotlib.pyplot as plt\n",
    "import matplotlib.patches as patches\n",
    "import numpy as np"
   ]
  },
  {
   "cell_type": "code",
   "execution_count": 63,
   "metadata": {},
   "outputs": [
    {
     "name": "stdout",
     "output_type": "stream",
     "text": [
      "[[0. 0. 0. 0.]\n",
      " [0. 0. 0. 0.]\n",
      " [0. 0. 0. 0.]\n",
      " [0. 0. 0. 0.]]\n"
     ]
    }
   ],
   "source": [
    "grid = np.zeros((4,4)) #this is how you define a 4x4 grid\n",
    "print(grid)"
   ]
  },
  {
   "cell_type": "code",
   "execution_count": 64,
   "metadata": {},
   "outputs": [
    {
     "data": {
      "text/plain": [
       "<matplotlib.image.AxesImage at 0x10e306c70>"
      ]
     },
     "execution_count": 64,
     "metadata": {},
     "output_type": "execute_result"
    },
    {
     "data": {
      "image/png": "[encoded data removed]",
      "text/plain": [
       "<Figure size 432x288 with 1 Axes>"
      ]
     },
     "metadata": {
      "needs_background": "light"
     },
     "output_type": "display_data"
    }
   ],
   "source": [
    "pos1 = [0,0] #start position of our agent\n",
    "pos2 = [3,3] #goal position of our agent\n",
    "grid[tuple(pos1)] = 1\n",
    "grid[tuple(pos2)] = 0.5\n",
    "\n",
    "plt.imshow(grid)"
   ]
  },
  {
   "cell_type": "code",
   "execution_count": 282,
   "metadata": {},
   "outputs": [],
   "source": [
    "class GridEnvironment(gym.Env):\n",
    "    metadata = {'render.modes': []}\n",
    "\n",
    "    def __init__(self):\n",
    "        self.observation_space = spaces.Discrete(16)\n",
    "        self.action_space = spaces.Discrete(4)\n",
    "        self.max_timesteps = 10\n",
    "        self.done = False\n",
    "        self.timestep = 0\n",
    "        \n",
    "\n",
    "    def reset(self):\n",
    "        self.state = np.zeros((4, 4))\n",
    "        self.done = False\n",
    "        self.agent_pos = [0, 0]\n",
    "        self.goal_pos = [3, 3]\n",
    "        self.state = np.zeros((4, 4))\n",
    "        self.state[tuple(self.agent_pos)] = 1  # Initial agent position\n",
    "        self.state[tuple(self.goal_pos)] = 0.5  # Goal position\n",
    "\n",
    "        self.rocks = [(2, 0), (1, 2)]  # Rocks positions\n",
    "        for rock_pos in self.rocks:\n",
    "            self.state[rock_pos] = -1  # Rocks as negative rewards\n",
    "\n",
    "        self.rewards = [(1, 0), (3, 1)]  # Positions where the agent receives positive rewards\n",
    "        for reward_pos in self.rewards:\n",
    "            self.state[reward_pos] = 2  # Positive rewards at reward positions\n",
    "\n",
    "        observation = self.state.flatten()\n",
    "        return observation\n",
    "\n",
    "    def step(self, action):\n",
    "        if action == 0:  # Down\n",
    "            self.agent_pos[0] += 1\n",
    "        elif action == 1:  # Up\n",
    "            self.agent_pos[0] -= 1\n",
    "        elif action == 2:  # Right\n",
    "            self.agent_pos[1] += 1\n",
    "        elif action == 3:  # Left\n",
    "            self.agent_pos[1] -= 1\n",
    "\n",
    "        # Comment this to demonstrate the truncation condition.\n",
    "        self.agent_pos = np.clip(self.agent_pos, 0, 3)\n",
    "\n",
    "        self.state = np.zeros((4, 4))\n",
    "        self.state[tuple(self.agent_pos)] = 1\n",
    "        self.state[tuple(self.goal_pos)] = 0.5\n",
    "\n",
    "        for rock_pos in self.rocks:\n",
    "            self.state[rock_pos] = -1\n",
    "\n",
    "        for reward_pos in self.rewards:\n",
    "            self.state[reward_pos] = 2 \n",
    "\n",
    "        observation = self.state.flatten()\n",
    "\n",
    "        reward = 0\n",
    "        if np.array_equal(self.agent_pos, self.goal_pos):\n",
    "            reward = 20  # Positive reward for reaching the goal\n",
    "            self.done = True\n",
    "        elif tuple(self.agent_pos) in self.rocks:\n",
    "            # Assign individual rewards for each rock position\n",
    "            if tuple(self.agent_pos) == (2, 0):\n",
    "                reward = -3  # Negative reward for hitting the rock at (1, 1)\n",
    "            elif tuple(self.agent_pos) == (1, 2):\n",
    "                reward = -4  # Negative reward for hitting the rock at (2, 2)\n",
    "        elif tuple(self.agent_pos) in self.rewards:\n",
    "            # Assign individual rewards for each reward position\n",
    "            if tuple(self.agent_pos) == (1, 0):\n",
    "                reward = 2  # Positive reward for being at the reward position (0, 3)\n",
    "            elif tuple(self.agent_pos) == (3, 1):\n",
    "                reward = 5  # Positive reward for being at the reward position (3, 0)\n",
    "\n",
    "        self.timestep += 1\n",
    "\n",
    "        terminated = True if self.timestep >= self.max_timesteps else False\n",
    "\n",
    "        agentState = self.agent_pos\n",
    "        isDone = self.done\n",
    "        timestepCount = self.timestep\n",
    "\n",
    "        return observation, reward, terminated, agentState, isDone, timestepCount\n",
    "\n",
    "    def render(self):\n",
    "        plt.title('Grid World')\n",
    "\n",
    "        # Visualize rocks as red squares\n",
    "        for rock_pos in self.rocks:\n",
    "            plt.scatter(rock_pos[1], rock_pos[0], color='red', marker='s', s=300)\n",
    "\n",
    "        # Visualize rocks as red squares\n",
    "        for reward_pos in self.rewards:\n",
    "            plt.scatter(reward_pos[1], reward_pos[0], color='orange', marker='P', s=300)\n",
    "\n",
    "        # Visualize the agent as a green circle\n",
    "        plt.scatter(self.agent_pos[1], self.agent_pos[0], color='green', marker='o', s=300)\n",
    "\n",
    "        # Visualize the goal as a blue star\n",
    "        plt.scatter(self.goal_pos[1], self.goal_pos[0], color='blue', marker='*', s=300)\n",
    "        plt.imshow(self.state)\n",
    "        plt.show()\n",
    "        \n"
   ]
  },
  {
   "cell_type": "code",
   "execution_count": 283,
   "metadata": {},
   "outputs": [],
   "source": [
    "actionsEquivalent = {0:'Down', 1:'Up', 2:'Right', 3:'Left'}\n",
    "statesEquivalent = {(0,0):'S1', (0,1):'S2', (0,2):'S3', (0,3):'S4', (1,0):'S5', (1,1):'S6', (1,2):'S7', \n",
    "                    (1,3):'S8',(2,0):'S9',(2,1):'S10',(2,2):'S11', (2,3):'S12', (3,0):'S13', (3,1):'S14', \n",
    "                    (3,2):'S15', (3,3):'S16'}"
   ]
  },
  {
   "cell_type": "code",
   "execution_count": 285,
   "metadata": {},
   "outputs": [
    {
     "data": {
      "image/png": "[encoded data removed]",
      "text/plain": [
       "<Figure size 432x288 with 1 Axes>"
      ]
     },
     "metadata": {
      "needs_background": "light"
     },
     "output_type": "display_data"
    }
   ],
   "source": [
    "env = GridEnvironment()\n",
    "\n",
    "obs = env.reset()\n",
    "env.render()"
   ]
  },
  {
   "cell_type": "code",
   "execution_count": 286,
   "metadata": {},
   "outputs": [
    {
     "name": "stdout",
     "output_type": "stream",
     "text": [
      "Reward = 0, Action = Up, Current State = S1 = (0, 0)\n"
     ]
    },
    {
     "data": {
      "image/png": "[encoded data removed]",
      "text/plain": [
       "<Figure size 432x288 with 1 Axes>"
      ]
     },
     "metadata": {
      "needs_background": "light"
     },
     "output_type": "display_data"
    }
   ],
   "source": [
    "action = 1\n",
    "observation, reward, terminated, state, done, timestepCount = env.step(action)\n",
    "print(f\"Reward = {reward}, Action = {actionsEquivalent[action]}, Current State = {statesEquivalent[tuple(state)]} = {tuple(state)}\")\n",
    "env.render()"
   ]
  },
  {
   "cell_type": "code",
   "execution_count": 287,
   "metadata": {},
   "outputs": [
    {
     "name": "stdout",
     "output_type": "stream",
     "text": [
      "Reward = 0, Action = Right, Current State = S2 = (0, 1)\n"
     ]
    },
    {
     "data": {
      "image/png": "[encoded data removed]",
      "text/plain": [
       "<Figure size 432x288 with 1 Axes>"
      ]
     },
     "metadata": {
      "needs_background": "light"
     },
     "output_type": "display_data"
    }
   ],
   "source": [
    "action = 2\n",
    "observation, reward, terminated, state, done, timestepCount = env.step(action)\n",
    "print(f\"Reward = {reward}, Action = {actionsEquivalent[action]}, Current State = {statesEquivalent[tuple(state)]} = {tuple(state)}\")\n",
    "env.render()"
   ]
  },
  {
   "cell_type": "code",
   "execution_count": 288,
   "metadata": {},
   "outputs": [
    {
     "name": "stdout",
     "output_type": "stream",
     "text": [
      "Reward = 0, Action = Left, Current State = S1 = (0, 0)\n"
     ]
    },
    {
     "data": {
      "image/png": "[encoded data removed]",
      "text/plain": [
       "<Figure size 432x288 with 1 Axes>"
      ]
     },
     "metadata": {
      "needs_background": "light"
     },
     "output_type": "display_data"
    }
   ],
   "source": [
    "action = 3\n",
    "observation, reward, terminated, state, done, timestepCount = env.step(action)\n",
    "print(f\"Reward = {reward}, Action = {actionsEquivalent[action]}, Current State = {statesEquivalent[tuple(state)]} = {tuple(state)}\")\n",
    "env.render()"
   ]
  },
  {
   "cell_type": "code",
   "execution_count": 289,
   "metadata": {},
   "outputs": [],
   "source": [
    "# Definition an agent that takes action randomly\n",
    "class RandomAgent:\n",
    "\n",
    "  def __init__(self, env):\n",
    "    self.env = env\n",
    "    self.observation_space = env.observation_space\n",
    "    self.action_space = env.action_space\n",
    "\n",
    "  def step(self, obs):\n",
    "    \"\"\"Takes a step in the environment by choosing an action randomly.\n",
    "\n",
    "    Args:\n",
    "        obs: The current observation.\n",
    "\n",
    "    Returns:\n",
    "        The action to take.\n",
    "    \"\"\"\n",
    "    return np.random.choice(self.action_space.n)"
   ]
  },
  {
   "cell_type": "code",
   "execution_count": 290,
   "metadata": {},
   "outputs": [
    {
     "name": "stdout",
     "output_type": "stream",
     "text": [
      "Timestep: 1\n",
      "\n",
      "Current State: S5 = (1, 0) | Action = Down | Reward = 2 | Done = False | Terminated:False\n"
     ]
    },
    {
     "data": {
      "image/png": "[encoded data removed]",
      "text/plain": [
       "<Figure size 432x288 with 1 Axes>"
      ]
     },
     "metadata": {
      "needs_background": "light"
     },
     "output_type": "display_data"
    },
    {
     "name": "stdout",
     "output_type": "stream",
     "text": [
      "Timestep: 2\n",
      "\n",
      "Current State: S1 = (0, 0) | Action = Up | Reward = 0 | Done = False | Terminated:False\n"
     ]
    },
    {
     "data": {
      "image/png": "[encoded data removed]",
      "text/plain": [
       "<Figure size 432x288 with 1 Axes>"
      ]
     },
     "metadata": {
      "needs_background": "light"
     },
     "output_type": "display_data"
    },
    {
     "name": "stdout",
     "output_type": "stream",
     "text": [
      "Timestep: 3\n",
      "\n",
      "Current State: S5 = (1, 0) | Action = Down | Reward = 2 | Done = False | Terminated:False\n"
     ]
    },
    {
     "data": {
      "image/png": "[encoded data removed]",
      "text/plain": [
       "<Figure size 432x288 with 1 Axes>"
      ]
     },
     "metadata": {
      "needs_background": "light"
     },
     "output_type": "display_data"
    },
    {
     "name": "stdout",
     "output_type": "stream",
     "text": [
      "Timestep: 4\n",
      "\n",
      "Current State: S1 = (0, 0) | Action = Up | Reward = 0 | Done = False | Terminated:False\n"
     ]
    },
    {
     "data": {
      "image/png": "[encoded data removed]",
      "text/plain": [
       "<Figure size 432x288 with 1 Axes>"
      ]
     },
     "metadata": {
      "needs_background": "light"
     },
     "output_type": "display_data"
    },
    {
     "name": "stdout",
     "output_type": "stream",
     "text": [
      "Timestep: 5\n",
      "\n",
      "Current State: S5 = (1, 0) | Action = Down | Reward = 2 | Done = False | Terminated:False\n"
     ]
    },
    {
     "data": {
      "image/png": "[encoded data removed]",
      "text/plain": [
       "<Figure size 432x288 with 1 Axes>"
      ]
     },
     "metadata": {
      "needs_background": "light"
     },
     "output_type": "display_data"
    },
    {
     "name": "stdout",
     "output_type": "stream",
     "text": [
      "Timestep: 6\n",
      "\n",
      "Current State: S5 = (1, 0) | Action = Left | Reward = 2 | Done = False | Terminated:False\n"
     ]
    },
    {
     "data": {
      "image/png": "[encoded data removed]",
      "text/plain": [
       "<Figure size 432x288 with 1 Axes>"
      ]
     },
     "metadata": {
      "needs_background": "light"
     },
     "output_type": "display_data"
    },
    {
     "name": "stdout",
     "output_type": "stream",
     "text": [
      "Timestep: 7\n",
      "\n",
      "Current State: S1 = (0, 0) | Action = Up | Reward = 0 | Done = False | Terminated:False\n"
     ]
    },
    {
     "data": {
      "image/png": "[encoded data removed]",
      "text/plain": [
       "<Figure size 432x288 with 1 Axes>"
      ]
     },
     "metadata": {
      "needs_background": "light"
     },
     "output_type": "display_data"
    },
    {
     "name": "stdout",
     "output_type": "stream",
     "text": [
      "Timestep: 8\n",
      "\n",
      "Current State: S2 = (0, 1) | Action = Right | Reward = 0 | Done = False | Terminated:False\n"
     ]
    },
    {
     "data": {
      "image/png": "[encoded data removed]",
      "text/plain": [
       "<Figure size 432x288 with 1 Axes>"
      ]
     },
     "metadata": {
      "needs_background": "light"
     },
     "output_type": "display_data"
    },
    {
     "name": "stdout",
     "output_type": "stream",
     "text": [
      "Timestep: 9\n",
      "\n",
      "Current State: S6 = (1, 1) | Action = Down | Reward = 0 | Done = False | Terminated:False\n"
     ]
    },
    {
     "data": {
      "image/png": "[encoded data removed]",
      "text/plain": [
       "<Figure size 432x288 with 1 Axes>"
      ]
     },
     "metadata": {
      "needs_background": "light"
     },
     "output_type": "display_data"
    },
    {
     "name": "stdout",
     "output_type": "stream",
     "text": [
      "Timestep: 10\n",
      "\n",
      "Current State: S7 = (1, 2) | Action = Right | Reward = -4 | Done = False | Terminated:True\n"
     ]
    },
    {
     "data": {
      "image/png": "[encoded data removed]",
      "text/plain": [
       "<Figure size 432x288 with 1 Axes>"
      ]
     },
     "metadata": {
      "needs_background": "light"
     },
     "output_type": "display_data"
    }
   ],
   "source": [
    "# Sample code for environment and agent implementation. Also shows\n",
    "# visualization of the random agent's movement across the grid. The yellow cell\n",
    "# shows the movement of the agent.\n",
    "\n",
    "if __name__ == '__main__':\n",
    "  env = GridEnvironment()\n",
    "  agent = RandomAgent(env)\n",
    "\n",
    "  obs = env.reset()\n",
    "  terminated = False\n",
    "\n",
    "  while not terminated:\n",
    "    action = agent.step(obs)\n",
    "    observation, reward, terminated, state, done, timestepCount = env.step(action)\n",
    "    stateTup = tuple(state)\n",
    "    print(f\"Timestep: {timestepCount}\")\n",
    "    print(f\"\\nCurrent State: {statesEquivalent[stateTup]} = {stateTup} | Action = {actionsEquivalent[action]} | Reward = {reward} | Done = {done} | Terminated:{terminated}\")\n",
    "    env.render()"
   ]
  },
  {
   "cell_type": "code",
   "execution_count": 354,
   "metadata": {},
   "outputs": [],
   "source": [
    "\n",
    "# SARSA algorithm for OpenAI Gym environment\n",
    "def sarsa(testing=False):\n",
    "    env = GridEnvironment()\n",
    "    obs = env.reset()#resets the environment to its initial configuration\n",
    "    current_state = 0  # s1\n",
    "    action_val = [0, 1, 2, 3]\n",
    "\n",
    "    # Intialize parameters\n",
    "    learning_rate = 0.15  # alpha\n",
    "    discount_factor = 0.95  # how much weightage to put on future rewards\n",
    "    det_epsilon = 0.99\n",
    "    timesteps = 15\n",
    "    episodes = 1000\n",
    "\n",
    "    # Initialize Q-values\n",
    "    action_space_size = env.action_space.n\n",
    "    state_space_size = env.observation_space.n\n",
    "    Q = np.zeros((state_space_size, action_space_size))\n",
    "\n",
    "    # Mapping next_state co-ordinates to q_table co-ordinates\n",
    "    states = {(0, 0): 0, (0, 1): 1, (0, 2): 2, (0, 3): 3,\n",
    "              (1, 0): 4, (1, 1): 5, (1, 2): 6, (1, 3): 7,\n",
    "              (2, 0): 8, (2, 1): 9, (2, 2): 10, (2, 3): 11,\n",
    "              (3, 0): 12, (3, 1): 13, (3, 2): 14, (3, 3): 15}  # 16 states\n",
    "    \n",
    "    #Empty lists to store values\n",
    "    optimal = []\n",
    "    reward_values = []\n",
    "    total_timesteps = []\n",
    "    epsilon_values = []\n",
    "    eva_rewards = []\n",
    "\n",
    "    done = False  # signifies if agent reached terminal or not\n",
    "    total_episodes = episodes\n",
    "    eva_episodes = 10\n",
    "    avg_timesteps = 0\n",
    "    # multiply by 0.995 for each episode(#after 30 iterations# or terminal state reached)\n",
    "    epsilon = 1\n",
    "    decay_factor = (0.01/1)**(1/total_episodes)\n",
    "    target = np.array([3, 3])\n",
    "    closeTarget = [(3, 2), (2, 3)]\n",
    "\n",
    "    #For testing results\n",
    "    if testing: \n",
    "        total_episodes += eva_episodes \n",
    "        print(\"Evaluation Results\")\n",
    "\n",
    "    # Epsilon-greedy policy\n",
    "    def epsilon_greedy_policy(Q, state, epsilon):\n",
    "        if np.random.random() < epsilon:\n",
    "            # Exploration: choose a random action\n",
    "            return np.random.choice(action_val)\n",
    "        else:\n",
    "            # Exploitation: choose the action with the highest Q-value\n",
    "            return np.argmax(Q[state])\n",
    "\n",
    "    for episode in range(1, total_episodes+1):\n",
    "        env.reset()\n",
    "        current_state = 0\n",
    "        total_rewards = 0\n",
    "        timestep = 0\n",
    "        curr_action = epsilon_greedy_policy(Q, current_state, epsilon)\n",
    "\n",
    "        while timestep != timesteps:\n",
    "            # Take the chosen action\n",
    "            _, reward, _, agentState, done, _ = env.step(curr_action)\n",
    "            next_state = states[tuple(agentState)]\n",
    "            \n",
    "            # Assign maximum reward when it reaches goal\n",
    "            if reward == 20:\n",
    "                reward += 100\n",
    "\n",
    "            # When its about to reach the goal assign higher reward\n",
    "            for agent in closeTarget:\n",
    "                if (agent == agentState).all():\n",
    "                    reward += 5 \n",
    "\n",
    "            next_action = epsilon_greedy_policy(Q, next_state, epsilon)\n",
    "\n",
    "            # Update Q-value using SARSA update rule\n",
    "            Q[current_state][curr_action] = Q[current_state][curr_action] + learning_rate * \\\n",
    "                (reward + discount_factor*Q[next_state]\n",
    "                 [next_action] - Q[current_state][curr_action])\n",
    "            \n",
    "            if episode == total_episodes:\n",
    "                optimal.append(current_state+1)\n",
    "\n",
    "            timestep += 1\n",
    "            total_rewards += reward\n",
    "            \n",
    "            current_state = next_state\n",
    "            curr_action = next_action\n",
    "\n",
    "            if done:\n",
    "                break\n",
    "\n",
    "        #Results after each episode\n",
    "        avg_timesteps += timestep #Capturing all timesteps for all 100 episodes\n",
    "        total_timesteps.append(avg_timesteps)\n",
    "\n",
    "        reward_values.append(total_rewards) #Append rewards in every episode\n",
    "        epsilon_values.append(epsilon) #Append epsilon values in every episode\n",
    "\n",
    "\n",
    "        if epsilon > 0.01: #keeping epsilon in [0.01 - 1] range as if it falls below 0.01 it will exploit more: choosing best actions. We want our agent to explore a bit: choosing random actions\n",
    "            epsilon = epsilon*decay_factor\n",
    "        else:\n",
    "            epsilon = 0.01\n",
    "\n",
    "\n",
    "        if (episode % 100) == 0 and testing == False: #printing results for every 100 episodes\n",
    "            print(\"Episode: {}, Rewards: {}, Average timesteps taken: {}, epsilon: {}\".format(episode, total_rewards, avg_timesteps//100, epsilon))\n",
    "            avg_timesteps = 0\n",
    "\n",
    "        #testing results\n",
    "        if testing:\n",
    "            if episode > total_episodes - eva_episodes:\n",
    "                eva_rewards.append(reward)\n",
    "\n",
    "        #printing the optimal path in last episode\n",
    "        if episode == total_episodes:\n",
    "            print(\"Optimal Path: \")\n",
    "            for i in optimal:\n",
    "                print(i,\"->\", end = \" \")\n",
    "            print(next_state+1)\n",
    "\n",
    "    print(\"Q Table: \\n\", Q)\n",
    "\n",
    "    #Plotting the results\n",
    "    #x, y co-ordinates\n",
    "    x = [episode for episode in range(total_episodes)]\n",
    "    yr = reward_values\n",
    "    ye = epsilon_values\n",
    "\n",
    "    yr_eva = eva_rewards\n",
    "    x_eva = [episode for episode in range(eva_episodes)]\n",
    "    \n",
    "\n",
    "    if testing:\n",
    "        #episodes vs rewards\n",
    "        plt.plot(x_eva,yr_eva)\n",
    "        plt.title(\"Rewards per episode\")\n",
    "        plt.xlabel('Episodes')\n",
    "        plt.ylabel('Rewards')\n",
    "\n",
    "    else:\n",
    "        #episodes vs epsilon\n",
    "        #Plots showing episodes vs epsilon, episodes vs rewards\n",
    "        fig, (ax1, ax2) = plt.subplots(1, 2, figsize=(10,4))\n",
    "        ax1.plot(x, ye)\n",
    "        ax1.set_title(\"Epsilon decay\")\n",
    "\n",
    "        #episodes vs rewards\n",
    "        ax2.plot(x,yr)\n",
    "        ax2.set_title(\"Rewards per episode\")\n",
    "\n"
   ]
  },
  {
   "cell_type": "code",
   "execution_count": 355,
   "metadata": {},
   "outputs": [
    {
     "name": "stdout",
     "output_type": "stream",
     "text": [
      "Evaluation Results\n",
      "Optimal Path: \n",
      "1 -> 5 -> 6 -> 10 -> 9 -> 10 -> 11 -> 15 -> 16\n",
      "Q Table: \n",
      " [[ 98.29860904  81.48207564  78.25432133  75.11074195]\n",
      " [ 95.3355709   28.72235872   6.20381998  27.60239166]\n",
      " [ 32.08956393  -0.58987054   3.36059607   7.71888049]\n",
      " [ 17.60845124   0.           2.29003448  -0.19883141]\n",
      " [ 67.96668185  73.8183227  101.07075851  78.3611505 ]\n",
      " [102.77925039  78.41831282  90.21070708  86.84111342]\n",
      " [111.83440233   5.46667286  36.03311303  17.62422693]\n",
      " [ 93.36783505   0.2660418    7.64540689  11.50294566]\n",
      " [ 21.82441555  35.24180341 104.58987098  34.85819838]\n",
      " [102.96378039  90.64863631 112.30406856  88.58932748]\n",
      " [118.7528374   87.47113897 101.26515598  92.88164672]\n",
      " [119.88928791  33.76272444  68.10331144  60.31477525]\n",
      " [ 10.9477186   -1.52372667  81.3419895   15.02690713]\n",
      " [ 65.16188547  67.23315092 118.97262254  32.49648753]\n",
      " [115.14980751 104.96386475 120.          92.22104778]\n",
      " [  0.           0.           0.           0.        ]]\n"
     ]
    },
    {
     "data": {
      "image/png": "[encoded data removed]",
      "text/plain": [
       "<Figure size 432x288 with 1 Axes>"
      ]
     },
     "metadata": {
      "needs_background": "light"
     },
     "output_type": "display_data"
    }
   ],
   "source": [
    "sarsa(testing=True)"
   ]
  }
 ],
 "metadata": {
  "kernelspec": {
   "display_name": "Python 3",
   "language": "python",
   "name": "python3"
  },
  "language_info": {
   "codemirror_mode": {
    "name": "ipython",
    "version": 3
   },
   "file_extension": ".py",
   "mimetype": "text/x-python",
   "name": "python",
   "nbconvert_exporter": "python",
   "pygments_lexer": "ipython3",
   "version": "3.9.18"
  }
 },
 "nbformat": 4,
 "nbformat_minor": 2
}
