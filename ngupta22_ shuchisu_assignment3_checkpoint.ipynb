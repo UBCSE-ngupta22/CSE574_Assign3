{
 "cells": [
  {
   "cell_type": "code",
   "execution_count": 356,
   "metadata": {},
   "outputs": [],
   "source": [
    "# Import required libraries\n",
    "import gymnasium as gym\n",
    "from gymnasium import spaces\n",
    "import matplotlib.pyplot as plt\n",
    "import matplotlib.patches as patches\n",
    "import numpy as np"
   ]
  },
  {
   "cell_type": "code",
   "execution_count": 357,
   "metadata": {},
   "outputs": [
    {
     "name": "stdout",
     "output_type": "stream",
     "text": [
      "[[0. 0. 0. 0.]\n",
      " [0. 0. 0. 0.]\n",
      " [0. 0. 0. 0.]\n",
      " [0. 0. 0. 0.]]\n"
     ]
    }
   ],
   "source": [
    "grid = np.zeros((4,4)) #this is how you define a 4x4 grid\n",
    "print(grid)"
   ]
  },
  {
   "cell_type": "code",
   "execution_count": 358,
   "metadata": {},
   "outputs": [
    {
     "data": {
      "text/plain": [
       "<matplotlib.image.AxesImage at 0x10e1941c0>"
      ]
     },
     "execution_count": 358,
     "metadata": {},
     "output_type": "execute_result"
    },
    {
     "data": {
      "image/png": "[encoded data removed]",
      "text/plain": [
       "<Figure size 432x288 with 1 Axes>"
      ]
     },
     "metadata": {
      "needs_background": "light"
     },
     "output_type": "display_data"
    }
   ],
   "source": [
    "pos1 = [0,0] #start position of our agent\n",
    "pos2 = [3,3] #goal position of our agent\n",
    "grid[tuple(pos1)] = 1\n",
    "grid[tuple(pos2)] = 0.5\n",
    "\n",
    "plt.imshow(grid)"
   ]
  },
  {
   "cell_type": "code",
   "execution_count": 398,
   "metadata": {},
   "outputs": [],
   "source": [
    "class GridEnvironment(gym.Env):\n",
    "    metadata = {'render.modes': []}\n",
    "\n",
    "    def __init__(self):\n",
    "        self.observation_space = spaces.Discrete(16)\n",
    "        self.action_space = spaces.Discrete(4)\n",
    "        self.max_timesteps = 10\n",
    "        self.done = False\n",
    "        self.timestep = 0\n",
    "\n",
    "    def reset(self):\n",
    "        self.state = np.zeros((4, 4))\n",
    "        self.done = False\n",
    "        self.agent_pos = [0, 0]\n",
    "        self.goal_pos = [3, 3]\n",
    "        self.state = np.zeros((4, 4))\n",
    "        self.state[tuple(self.agent_pos)] = 1  # Initial agent position\n",
    "        self.state[tuple(self.goal_pos)] = 0.5  # Goal position\n",
    "\n",
    "        self.rocks = [(0, 3), (1, 2)]  # Rocks positions\n",
    "        for rock_pos in self.rocks:\n",
    "            self.state[rock_pos] = -1  # Rocks as negative rewards\n",
    "\n",
    "        self.rewards = [(2, 1), (2, 2)]  # Rewards positions\n",
    "        for reward_pos in self.rewards:\n",
    "            self.state[reward_pos] = 2  # Positive rewards at reward positions\n",
    "\n",
    "        observation = self.state.flatten()\n",
    "        return observation\n",
    "\n",
    "    def step(self, action):\n",
    "        if action == 0:  # Down\n",
    "            self.agent_pos[0] += 1\n",
    "        elif action == 1:  # Up\n",
    "            self.agent_pos[0] -= 1\n",
    "        elif action == 2:  # Right\n",
    "            self.agent_pos[1] += 1\n",
    "        elif action == 3:  # Left\n",
    "            self.agent_pos[1] -= 1\n",
    "\n",
    "        # Comment this to demonstrate the truncation condition.\n",
    "        self.agent_pos = np.clip(self.agent_pos, 0, 3)\n",
    "\n",
    "        self.state = np.zeros((4, 4))\n",
    "        self.state[tuple(self.agent_pos)] = 1\n",
    "        self.state[tuple(self.goal_pos)] = 0.5\n",
    "\n",
    "        for rock_pos in self.rocks:\n",
    "            self.state[rock_pos] = -1\n",
    "\n",
    "        for reward_pos in self.rewards:\n",
    "            self.state[reward_pos] = 2 \n",
    "\n",
    "        observation = self.state.flatten()\n",
    "\n",
    "        reward = 0\n",
    "        if np.array_equal(self.agent_pos, self.goal_pos):\n",
    "            reward = 15\n",
    "            self.done = True\n",
    "        elif tuple(self.agent_pos) in self.rocks:\n",
    "            if tuple(self.agent_pos) == (0, 3):\n",
    "                reward = -3  \n",
    "            elif tuple(self.agent_pos) == (1, 2):\n",
    "                reward = -2 \n",
    "        elif tuple(self.agent_pos) in self.rewards:\n",
    "            if tuple(self.agent_pos) == (2, 1):\n",
    "                reward = 2\n",
    "            elif tuple(self.agent_pos) == (2, 2):\n",
    "                reward = 4 \n",
    "\n",
    "        self.timestep += 1\n",
    "\n",
    "        terminated = True if self.timestep >= self.max_timesteps else False\n",
    "\n",
    "        agentState = self.agent_pos\n",
    "        isDone = self.done\n",
    "        timestepCount = self.timestep\n",
    "\n",
    "        return observation, reward, terminated, agentState, isDone, timestepCount\n",
    "\n",
    "    def render(self):\n",
    "        plt.title('Grid World')\n",
    "\n",
    "        # Visualize rocks as red color\n",
    "        for rock_pos in self.rocks:\n",
    "            plt.scatter(rock_pos[1], rock_pos[0], color='red', marker='s', s=300)\n",
    "\n",
    "        # Visualize rewards as orange color\n",
    "        for reward_pos in self.rewards:\n",
    "            plt.scatter(reward_pos[1], reward_pos[0], color='orange', marker='P', s=300)\n",
    "\n",
    "        # Visualize agent as green color\n",
    "        plt.scatter(self.agent_pos[1], self.agent_pos[0], color='green', marker='o', s=300)\n",
    "\n",
    "        # Visualize the goal as blue color\n",
    "        plt.scatter(self.goal_pos[1], self.goal_pos[0], color='blue', marker='*', s=300)\n",
    "        plt.imshow(self.state)\n",
    "        plt.show()"
   ]
  },
  {
   "cell_type": "code",
   "execution_count": 399,
   "metadata": {},
   "outputs": [],
   "source": [
    "actionsEquivalent = {0:'Down', 1:'Up', 2:'Right', 3:'Left'}\n",
    "statesEquivalent = {(0,0):'S1', (0,1):'S2', (0,2):'S3', (0,3):'S4', (1,0):'S5', (1,1):'S6', (1,2):'S7', \n",
    "                    (1,3):'S8',(2,0):'S9',(2,1):'S10',(2,2):'S11', (2,3):'S12', (3,0):'S13', (3,1):'S14', \n",
    "                    (3,2):'S15', (3,3):'S16'}"
   ]
  },
  {
   "cell_type": "code",
   "execution_count": 400,
   "metadata": {},
   "outputs": [
    {
     "data": {
      "image/png": "[encoded data removed]",
      "text/plain": [
       "<Figure size 432x288 with 1 Axes>"
      ]
     },
     "metadata": {
      "needs_background": "light"
     },
     "output_type": "display_data"
    }
   ],
   "source": [
    "env = GridEnvironment()\n",
    "\n",
    "obs = env.reset()\n",
    "env.render()"
   ]
  },
  {
   "cell_type": "code",
   "execution_count": 401,
   "metadata": {},
   "outputs": [],
   "source": [
    "# Definition an agent that takes action randomly\n",
    "class RandomAgent:\n",
    "\n",
    "  def __init__(self, env):\n",
    "    self.env = env\n",
    "    self.observation_space = env.observation_space\n",
    "    self.action_space = env.action_space\n",
    "\n",
    "  def step(self, obs):\n",
    "    return np.random.choice(self.action_space.n)"
   ]
  },
  {
   "cell_type": "code",
   "execution_count": 402,
   "metadata": {},
   "outputs": [
    {
     "name": "stdout",
     "output_type": "stream",
     "text": [
      "Timestep: 1\n",
      "\n",
      "Current State: S5 = (1, 0) | Action = Down | Reward = 0 | Done = False | Terminated:False\n"
     ]
    },
    {
     "data": {
      "image/png": "[encoded data removed]",
      "text/plain": [
       "<Figure size 432x288 with 1 Axes>"
      ]
     },
     "metadata": {
      "needs_background": "light"
     },
     "output_type": "display_data"
    },
    {
     "name": "stdout",
     "output_type": "stream",
     "text": [
      "Timestep: 2\n",
      "\n",
      "Current State: S6 = (1, 1) | Action = Right | Reward = 0 | Done = False | Terminated:False\n"
     ]
    },
    {
     "data": {
      "image/png": "[encoded data removed]",
      "text/plain": [
       "<Figure size 432x288 with 1 Axes>"
      ]
     },
     "metadata": {
      "needs_background": "light"
     },
     "output_type": "display_data"
    },
    {
     "name": "stdout",
     "output_type": "stream",
     "text": [
      "Timestep: 3\n",
      "\n",
      "Current State: S7 = (1, 2) | Action = Right | Reward = -2 | Done = False | Terminated:False\n"
     ]
    },
    {
     "data": {
      "image/png": "[encoded data removed]",
      "text/plain": [
       "<Figure size 432x288 with 1 Axes>"
      ]
     },
     "metadata": {
      "needs_background": "light"
     },
     "output_type": "display_data"
    },
    {
     "name": "stdout",
     "output_type": "stream",
     "text": [
      "Timestep: 4\n",
      "\n",
      "Current State: S8 = (1, 3) | Action = Right | Reward = 0 | Done = False | Terminated:False\n"
     ]
    },
    {
     "data": {
      "image/png": "[encoded data removed]",
      "text/plain": [
       "<Figure size 432x288 with 1 Axes>"
      ]
     },
     "metadata": {
      "needs_background": "light"
     },
     "output_type": "display_data"
    },
    {
     "name": "stdout",
     "output_type": "stream",
     "text": [
      "Timestep: 5\n",
      "\n",
      "Current State: S8 = (1, 3) | Action = Right | Reward = 0 | Done = False | Terminated:False\n"
     ]
    },
    {
     "data": {
      "image/png": "[encoded data removed]",
      "text/plain": [
       "<Figure size 432x288 with 1 Axes>"
      ]
     },
     "metadata": {
      "needs_background": "light"
     },
     "output_type": "display_data"
    },
    {
     "name": "stdout",
     "output_type": "stream",
     "text": [
      "Timestep: 6\n",
      "\n",
      "Current State: S12 = (2, 3) | Action = Down | Reward = 0 | Done = False | Terminated:False\n"
     ]
    },
    {
     "data": {
      "image/png": "[encoded data removed]",
      "text/plain": [
       "<Figure size 432x288 with 1 Axes>"
      ]
     },
     "metadata": {
      "needs_background": "light"
     },
     "output_type": "display_data"
    },
    {
     "name": "stdout",
     "output_type": "stream",
     "text": [
      "Timestep: 7\n",
      "\n",
      "Current State: S11 = (2, 2) | Action = Left | Reward = 4 | Done = False | Terminated:False\n"
     ]
    },
    {
     "data": {
      "image/png": "[encoded data removed]",
      "text/plain": [
       "<Figure size 432x288 with 1 Axes>"
      ]
     },
     "metadata": {
      "needs_background": "light"
     },
     "output_type": "display_data"
    },
    {
     "name": "stdout",
     "output_type": "stream",
     "text": [
      "Timestep: 8\n",
      "\n",
      "Current State: S10 = (2, 1) | Action = Left | Reward = 2 | Done = False | Terminated:False\n"
     ]
    },
    {
     "data": {
      "image/png": "[encoded data removed]",
      "text/plain": [
       "<Figure size 432x288 with 1 Axes>"
      ]
     },
     "metadata": {
      "needs_background": "light"
     },
     "output_type": "display_data"
    },
    {
     "name": "stdout",
     "output_type": "stream",
     "text": [
      "Timestep: 9\n",
      "\n",
      "Current State: S14 = (3, 1) | Action = Down | Reward = 0 | Done = False | Terminated:False\n"
     ]
    },
    {
     "data": {
      "image/png": "[encoded data removed]",
      "text/plain": [
       "<Figure size 432x288 with 1 Axes>"
      ]
     },
     "metadata": {
      "needs_background": "light"
     },
     "output_type": "display_data"
    },
    {
     "name": "stdout",
     "output_type": "stream",
     "text": [
      "Timestep: 10\n",
      "\n",
      "Current State: S13 = (3, 0) | Action = Left | Reward = 0 | Done = False | Terminated:True\n"
     ]
    },
    {
     "data": {
      "image/png": "[encoded data removed]",
      "text/plain": [
       "<Figure size 432x288 with 1 Axes>"
      ]
     },
     "metadata": {
      "needs_background": "light"
     },
     "output_type": "display_data"
    }
   ],
   "source": [
    "if __name__ == '__main__':\n",
    "  env = GridEnvironment()\n",
    "  agent = RandomAgent(env)\n",
    "\n",
    "  obs = env.reset()\n",
    "  terminated = False\n",
    "\n",
    "  while not terminated:\n",
    "    action = agent.step(obs)\n",
    "    observation, reward, terminated, state, done, timestepCount = env.step(action)\n",
    "    stateTup = tuple(state)\n",
    "    print(f\"Timestep: {timestepCount}\")\n",
    "    print(f\"\\nCurrent State: {statesEquivalent[stateTup]} = {stateTup} | Action = {actionsEquivalent[action]} | Reward = {reward} | Done = {done} | Terminated:{terminated}\")\n",
    "    env.render()"
   ]
  },
  {
   "cell_type": "code",
   "execution_count": 463,
   "metadata": {},
   "outputs": [],
   "source": [
    "\n",
    "# SARSA algorithm for OpenAI Gym environment\n",
    "def SARSA_train():\n",
    "    env = GridEnvironment()\n",
    "    obs = env.reset()\n",
    "    currentState = 0\n",
    "    action_val = [0, 1, 2, 3]\n",
    "\n",
    "    learningRate = 0.15  \n",
    "    discount_factor = 0.95 \n",
    "    timesteps = 20\n",
    "    episodes = 1000\n",
    "\n",
    "    action_space_size = env.action_space.n\n",
    "    state_space_size = env.observation_space.n\n",
    "    Q = np.zeros((state_space_size, action_space_size))\n",
    "\n",
    "    states = {(0, 0): 0, (0, 1): 1, (0, 2): 2, (0, 3): 3,\n",
    "              (1, 0): 4, (1, 1): 5, (1, 2): 6, (1, 3): 7,\n",
    "              (2, 0): 8, (2, 1): 9, (2, 2): 10, (2, 3): 11,\n",
    "              (3, 0): 12, (3, 1): 13, (3, 2): 14, (3, 3): 15} \n",
    "\n",
    "    reward_values = []\n",
    "    epsilon_values = []\n",
    "    total_episodes = episodes\n",
    "    epsilon = 1\n",
    "    decay_factor = (0.01/1)**(1/total_episodes)\n",
    "\n",
    "    # Epsilon-greedy policy\n",
    "    def epsilon_greedy_policy(Q, state, epsilon):\n",
    "        if np.random.random() < epsilon:\n",
    "            return np.random.choice(action_val)\n",
    "        else:\n",
    "            return np.argmax(Q[state])\n",
    "\n",
    "    for episode in range(total_episodes):\n",
    "        env.reset()\n",
    "        currentState = 0\n",
    "        total_rewards = 0\n",
    "        timestep = 0\n",
    "        currAction = epsilon_greedy_policy(Q, currentState, epsilon)\n",
    "\n",
    "        while timestep != timesteps:\n",
    "            _, reward, _, agentState, done, _ = env.step(currAction)\n",
    "            nextState = states[tuple(agentState)]\n",
    "\n",
    "            nextAction = epsilon_greedy_policy(Q, nextState, epsilon)\n",
    "\n",
    "            Q[currentState][currAction] = Q[currentState][currAction] + learningRate * \\\n",
    "                (reward + discount_factor*Q[nextState]\n",
    "                 [nextAction] - Q[currentState][currAction])\n",
    "\n",
    "            timestep += 1\n",
    "            total_rewards += reward\n",
    "            \n",
    "            currentState = nextState\n",
    "            currAction = nextAction\n",
    "\n",
    "            if done:\n",
    "                break\n",
    "        \n",
    "        epsilon = epsilon*decay_factor if epsilon > 0.01 else 0.01\n",
    "        reward_values.append(total_rewards)\n",
    "        epsilon_values.append(epsilon)\n",
    "\n",
    "        \n",
    "    return Q\n",
    "\n",
    "    # print(\"Q Table: \\n\", Q)\n",
    "\n",
    "    # x = [episode for episode in range(total_episodes)]\n",
    "    # yr = reward_values\n",
    "    # ye = epsilon_values\n",
    "\n",
    "    # fig, (ax1, ax2) = plt.subplots(1, 2, figsize=(10,4))\n",
    "    # ax1.plot(x, ye)\n",
    "    # ax1.set_title(\"Epsilon decay\")\n",
    "\n",
    "    # #episodes vs rewards\n",
    "    # ax2.plot(x,yr)\n",
    "    # ax2.set_title(\"Rewards per episode\")\n",
    "\n"
   ]
  },
  {
   "cell_type": "code",
   "execution_count": 467,
   "metadata": {},
   "outputs": [],
   "source": [
    "qtable = SARSA_train()"
   ]
  },
  {
   "cell_type": "code",
   "execution_count": null,
   "metadata": {},
   "outputs": [],
   "source": [
    "\n",
    "def SARSA_test(env=GridEnvironment(), qtable=qtable, start=0, goal=15, num_episodes=1000):\n",
    "    states = {(0, 0): 0, (0, 1): 1, (0, 2): 2, (0, 3): 3,\n",
    "            (1, 0): 4, (1, 1): 5, (1, 2): 6, (1, 3): 7,\n",
    "            (2, 0): 8, (2, 1): 9, (2, 2): 10, (2, 3): 11,\n",
    "            (3, 0): 12, (3, 1): 13, (3, 2): 14, (3, 3): 15} \n",
    "    total_timesteps = 0\n",
    "    episode_rewards = []\n",
    "\n",
    "    for _ in range(num_episodes):\n",
    "        obs = env.reset()\n",
    "        episode_reward = 0\n",
    "        state=0\n",
    "        while state != goal:\n",
    "            action = np.argmax(qtable[state])\n",
    "            _, reward, _, agentState, done, _ = env.step(currAction)\n",
    "            nextState = states[tuple(agentState)]\n",
    "            episode_reward += reward\n",
    "            total_timesteps += 1\n",
    "\n",
    "        episode_rewards.append(episode_reward)\n",
    "\n",
    "    average_timesteps = total_timesteps / num_episodes\n",
    "    return average_timesteps, episode_rewards\n",
    "\n",
    "    "
   ]
  }
 ],
 "metadata": {
  "kernelspec": {
   "display_name": "Python 3",
   "language": "python",
   "name": "python3"
  },
  "language_info": {
   "codemirror_mode": {
    "name": "ipython",
    "version": 3
   },
   "file_extension": ".py",
   "mimetype": "text/x-python",
   "name": "python",
   "nbconvert_exporter": "python",
   "pygments_lexer": "ipython3",
   "version": "3.9.18"
  }
 },
 "nbformat": 4,
 "nbformat_minor": 2
}
